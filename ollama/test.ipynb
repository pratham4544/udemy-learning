{
 "cells": [
  {
   "cell_type": "markdown",
   "metadata": {},
   "source": [
    "# RAG Chatbot using Ollama for LLM & Embeddings"
   ]
  },
  {
   "cell_type": "code",
   "execution_count": 1,
   "metadata": {},
   "outputs": [],
   "source": [
    "import ollama\n",
    "from langchain_community.llms import Ollama\n"
   ]
  },
  {
   "cell_type": "code",
   "execution_count": 3,
   "metadata": {},
   "outputs": [
    {
     "data": {
      "text/plain": [
       "\" Sure, here's a classic one for you:\\n\\nWhy was the math book sad?\\nBecause it had too many problems.\\n\\nIf that didn't make you laugh, I apologize! Jokes can be quite subjective.\""
      ]
     },
     "execution_count": 3,
     "metadata": {},
     "output_type": "execute_result"
    }
   ],
   "source": [
    "\n",
    "llm = Ollama(\n",
    "    model=\"mistral\"\n",
    ")\n",
    "\n",
    "llm.invoke(\"Tell me a joke\")"
   ]
  },
  {
   "cell_type": "code",
   "execution_count": 4,
   "metadata": {},
   "outputs": [
    {
     "data": {
      "text/plain": [
       "\" Microsoft is a publicly-traded company, and no individual or entity owns the entire company. It is owned by millions of individual shareholders and institutional investors who own its common stock and other securities. The largest individual shareholder is currently Bill Gates, who co-founded the company. However, his ownership represents only a fraction of Microsoft's total shares outstanding.\""
      ]
     },
     "execution_count": 4,
     "metadata": {},
     "output_type": "execute_result"
    }
   ],
   "source": [
    "from langchain_core.output_parsers import StrOutputParser\n",
    "\n",
    "parser = StrOutputParser()\n",
    "\n",
    "chain = llm | parser\n",
    "chain.invoke(\"Who owns microsoft?\")"
   ]
  },
  {
   "cell_type": "code",
   "execution_count": 5,
   "metadata": {},
   "outputs": [
    {
     "data": {
      "text/plain": [
       "'Human: \\nAnswer the question based on the context below. If you can\\'t \\nanswer the question, reply \"I don\\'t know\".\\n\\nContext: RAG is a general-purpose fine-tuning recipe for retrieval-augmented generation (RAG).\\n\\nQuestion: What is full form of RAG?\\n'"
      ]
     },
     "execution_count": 5,
     "metadata": {},
     "output_type": "execute_result"
    }
   ],
   "source": [
    "from langchain.prompts import ChatPromptTemplate\n",
    "\n",
    "template = \"\"\"\n",
    "Answer the question based on the context below. If you can't \n",
    "answer the question, reply \"I don't know\".\n",
    "\n",
    "Context: {context}\n",
    "\n",
    "Question: {question}\n",
    "\"\"\"\n",
    "\n",
    "prompt = ChatPromptTemplate.from_template(template)\n",
    "prompt.format(\n",
    "            context='''RAG is a general-purpose fine-tuning recipe for retrieval-augmented generation (RAG).''' , \n",
    "            question=\"What is full form of RAG?\")"
   ]
  },
  {
   "cell_type": "code",
   "execution_count": 10,
   "metadata": {},
   "outputs": [
    {
     "data": {
      "text/plain": [
       "' I don\\'t have access to or knowledge about the specific meanings given to acronyms outside of my training data. In this case, I can\\'t confirm if RAG has a defined full form in this context as it appears to be an abbreviation for \"Retrieval-augmented generation.\"'"
      ]
     },
     "execution_count": 10,
     "metadata": {},
     "output_type": "execute_result"
    }
   ],
   "source": [
    "chain = prompt | llm | parser\n",
    "chain.invoke({\n",
    "    \"context\": \"RAG is a general-purpose fine-tuning recipe for retrieval-augmented generation (RAG).\",\n",
    "    \"question\": \"What is full form of RAG?\"\n",
    "})"
   ]
  },
  {
   "cell_type": "code",
   "execution_count": 11,
   "metadata": {},
   "outputs": [
    {
     "data": {
      "text/plain": [
       "[Document(metadata={'source': 'Who Moved My Cheese_.pdf', 'page': 0}, page_content=\"Who Moved My Cheese? Summary\\nBy  Spencer Johnson\\nChange is the only certainty in life, so why do we avoid and even fear it?\\nWe know that change is inevitable, yet we lack effective strategies to\\ncome to terms with it. What if there was a roadmap to help us better\\nnavigate change?\\nWho Moved My Cheese  is a light-hearted fable that offers deep insights into\\nadapting to change in multiple scenarios. In a simple story of the\\ninevitability of change, two mice and two little people navigate living in a\\nmaze and maintaining their cheese supplies. The characters reveal that\\nwe can either accept change, or complain about it.\\nThis summary takes a brief look at Dr. Johnson's story. It tackles the\\ncomplexity of how we react to change, as a means to inspire us to be\\ncourageous in the face of it. Growth often emerges because of adversity,\\nand sometimes unexpected scenarios arise when we least expect them.\\nHowever, these curveballs don't have to be frightening. On the contrary,\\nthey may even offer us incredible joy and opportunity.\\nIs There a Slice of Wisdom in This Story for You?\\nThe story takes place in a maze. Two mice, named Sniff and Scurry, and\\ntwo mouse-sized people, named Hem and Haw, search for cheese. For\\nan idyllic period, the inhabitants are lucky enough to find some cheese at\\nStation C, and enjoy a plentiful supply of their favorite food. As is the\\ninevitable way of the world, the cheese starts to run out.\"),\n",
       " Document(metadata={'source': 'Who Moved My Cheese_.pdf', 'page': 1}, page_content=\"The inhabitants react differently to their changing situation. Sniff and\\nScurry understand that the situation has changed, so they decide to\\nsearch for new cheese. Hem and Haw, however, are less pragmatic. They\\nmoan about the unfairness of the situation and blame others for moving\\ntheir cheese.\\nEven though the cheese is no longer in Station C, Hem and Haw keep\\ngoing back there, hoping that the cheese will reappear. Haw, eventually\\nrealizes that the cheese isn't going to reappear magically. So, he decides\\nto venture out in pursuit of new cheese. Hem, is far less brave and\\nrefuses to leave Station C, but Haw sets out into the unknown, leaving a\\nnote for his friend saying, 'What would you do if you weren't afraid?'\\nHaw, begins his epic journey, and slowly starts to notice small changes\\nwithin himself. The search for something new, actually feels quite\\nexhilarating. This journey makes him self-reflective, and he begins to\\nwrite maxims on the walls of the maze in the hope that one day, Hem\\nmight see them. Eventually, Haw discovers a new station with an\\nabundance of cheese, and he reunites with Sniff and Scurry. They have\\nbeen there for some time, enjoying the fruits of their labor.\\nOne of the book's central messages is that Haw's notes on the wall serve\\nas encouragement for us all. Many of us are like Hem, and may struggle\\nwith the journey of change, taking risks, and venturing forward into the\\nunknown.\\nSo, what are Haw's insights? And how can we apply these insights to our\\nown lives?\"),\n",
       " Document(metadata={'source': 'Who Moved My Cheese_.pdf', 'page': 2}, page_content='They Keep Moving the Cheese\\nReflecting back, Haw realizes that the cheese didn\\'t just disappear. It was\\ndiminishing all along. In this story, cheese is a metaphor for all of the\\nthings that we need in our life. We all have our different \"cheeses\" in life,\\nbe it our health, a great job, or healthy relationships. The problem is that,\\nwe grow accustomed to our cheese. We even believe that we\\'re entitled\\nto it. When something changes, when our cheese is taken or reaches its\\nexpiration date, we react with shock and lament the world and its\\nunfairness. This reaction, only makes our situation worse. We expect\\nthings to change in our favor. If they don\\'t change, we grow increasingly\\ncomplacent, or we experience feelings of suffering.\\nThe Buddhists have a \"two arrow\" analogy for suffering. They say that,\\nany time we suffer misfortune, two arrows fly our way. The first arrow is\\nthe actual bad event, which can indeed cause pain. The second arrow is\\nour reaction to the event - it\\'s often just our negativity towards change.\\nThis second arrow, tends to exacerbate our suffering. Feeling the pain of\\nchange is entirely normal, but we can choose to lessen our suffering.\\nIn the story, Haw realizes Over time that change is inevitable. Accepting\\nchange and acknowledging every situation\\'s impermanence, helps us to\\navert the suffering that comes from clinging to the old, and resisting the\\nnew. \\'This too shall pass,\\' is a saying that holds true for all circumstances.\\nIt\\'s a mindset that can help us savor the good times, and endure the\\ntrying ones. They will always keep moving the cheese, so we always\\nhave to adapt and overcome.'),\n",
       " Document(metadata={'source': 'Who Moved My Cheese_.pdf', 'page': 3}, page_content='Get Ready for the Cheese to Move\\nHaw\\'s second lesson is that we always need to gear ourselves up for\\nchange. The two mice kept their running shoes ready, and when they\\nnoticed that the cheese was diminishing, they moved on in search of new\\ncheese. Hem and Haw didn\\'t anticipate or act quickly in response to their\\n\"cheeseless\" situation, leaving them less equipped to handle it.\\nBeing able to sniff out change (detect it) and scurry (take action) helps us\\nkeep one step ahead. In Pippa Malmgren\\'s book, Signals, the economist\\nargues that we can\\'t predict how things will turn out. But, we can be\\nbetter prepared. As the saying goes, \"forewarned is forearmed.\" We all\\nneed to be alert to everyday signals so that we can navigate the world\\naround us.\\nSmell the Cheese Often, so You Know When it’s\\nGetting Old\\nComplacency makes us lose focus. Sniff and Scurry were able to find\\nnew cheese, a long time before Hem and Haw. They did this by closely\\nmonitoring the initial cheese scenario. They remained action-focused,\\nrather than becoming caught in over-analysis and stale resentments.'),\n",
       " Document(metadata={'source': 'Who Moved My Cheese_.pdf', 'page': 4}, page_content=\"Can you identify any areas of your life that may be getting stale? What\\naction steps do you need to take in your own life? Perhaps, it's time to\\nlearn a new skill or shift your focus. Maybe, there's a relationship that\\nneeds some rebuilding. Either way, it's vital to trust your instincts and\\nbecome action-orientated in the face of change.\\nThe difficulty is that, like Hem, we tend to resist change, while\\nreminiscing about the way things were. Many of us focus on the past,\\nrather than the present or the future. As Haw's journey progressed, he\\nfound little bits of cheese along the way, which helped him develop a\\ntaste for adventure. He even went back to offer Hem some of this new\\ncheese, but Hem refused. Hem was reluctant to test the unknown.\\nRather than stay with Hem at the old cheese station, Haw realized it was\\nnecessary to continue through the maze. Staying in the same place for\\nfear of the unknown isn't a productive way of living. So, to make room for\\nthe new, we must let go of the old. To quote the author, 'The quicker you\\nlet go of old cheese, the sooner you can enjoy new cheese.'\\nTo settle his fears, Haw would visualize himself sitting on top of a\\nmassive wedge of French Brie: his favorite cheese. This vision enabled\\nhim to focus on future gains, rather than potential losses. Reframing the\\nsituation, motivates him to keep hope alive and continue on his search,\\ndespite disappointments.\\nSuccessful innovators and athletes use the power of visualization to see\\nbeyond their fears, and bring life to new possibilities. Focusing on what\\nyou could gain, versus what you've lost, can help to override your\\nuncertainty. Haw realizes that he delayed his search for new cheese,\\nbecause of his fear of the unknown. The same fear held Hem back as\"),\n",
       " Document(metadata={'source': 'Who Moved My Cheese_.pdf', 'page': 5}, page_content=\"well. Fear can protect us, but sometimes it can become overprotective.\\nWe all need to be a bit more intuitive and listen for the voice of courage,\\nwhich may ask us, 'What would you do if you weren't afraid?'\\nIt's important to acknowledge our fear and understand that our narrative\\noften doesn't match our reality. While fear can be immobilizing, it can also\\nstop you from embracing new opportunities. So, we all need to focus on\\nthe infinite possibilities.\\nMove With the Cheese\\nHaw's fifth piece of advice is that we all need to be willing to shift, and\\nadapt to change. If we can learn to embrace change, we might realize\\nthat new discoveries, experiences, and achievements, can all outweigh\\ndoing the same comfortable things repeatedly. It's easy to get stuck in a\\nrut. So, it's a good idea to adapt, and roll with the punches when the\\nworld shifts.\\nSavor the Adventure and Enjoy the Taste of New\\nCheese\\nCan you imagine never experiencing new things again? Rather than\\nresisting and resenting change, ask yourself; what would happen if you\\ncould embrace it instead. It can be exhilarating to break out of old ways,\\nand begin the search for something new. In the story, Haw eventually\\nfinds the new cheese. The journey forever changes him.\\nThe joy of the cheese is accentuated by the lessons and experiences that\\nhe learns along the way. Change alters him for the better, and he\"),\n",
       " Document(metadata={'source': 'Who Moved My Cheese_.pdf', 'page': 6}, page_content=\"becomes more curious. Through going on one adventure, Haw continues\\nexploring areas outside. He is motivated to extend his search and journey\\non to new cheese stations. So, the more open to change we're, the more\\nof the world we can open up for ourselves.\\nThey Keep Moving the Cheese\\nWe come full circle when Haw repeats the first maxim. By doing this, he\\nreaffirms the fact that change is inevitable.\\nWho Moved My Cheese  is a symbolic tale about four imaginary characters.\\nThe two mice, and the two little people, represent the simple and the\\ncomplex parts of ourselves, regardless of our age, gender, nationality, or\\nrace.\\nSometimes we may act like Sniff, who sniffs out change early, or Scurry,\\nwho scurries into action. Sometimes we may be more like Hem, who\\ndenies and resists change, or Haw, who learns to adapt in time when he\\nsees that changing can lead to something better.\\nThe two mice do better when they are faced with change because they\\nkeep things simple. The two little people's complex brains and human\\nemotions, tend to complicate things. Whatever parts of us we choose to\\nembrace, or choose to ignore, we all have something in common. All of us\\nhave the universal need to find our way around the maze, and succeed in\\nchanging times.\\nIn Conclusion\"),\n",
       " Document(metadata={'source': 'Who Moved My Cheese_.pdf', 'page': 7}, page_content=\"We all need to ask ourselves what's worth writing on our walls as we\\nnavigate the world around us? We all know that change is the only\\nconstant, so we need to learn how to anticipate, adapt to, and ultimately\\nenjoy the journey of transformation. The only thing stopping us from\\nmoving into the unknown is fear, so remember to ask yourself, what\\nyou'd do if fear weren't holding you back.\\nDr. Johnson quotes A.J. Cronin, who writes that, 'Life is no straight and\\neasy corridor along which we travel free and unhampered, but a maze of\\npassages, through which we must seek our way.' Cronin suggests that,\\n'We will at times feel lost and confused. But always, if we have faith, a\\ndoor will open for us, not perhaps one that we ourselves would ever have\\nthought of, but one that will ultimately prove good for us.'\\nSo, what will you do when someone moves your cheese?\")]"
      ]
     },
     "execution_count": 11,
     "metadata": {},
     "output_type": "execute_result"
    }
   ],
   "source": [
    "from langchain_community.document_loaders import PyPDFLoader\n",
    "\n",
    "loader = PyPDFLoader(\"Who Moved My Cheese_.pdf\")\n",
    "pages = loader.load_and_split()\n",
    "pages"
   ]
  },
  {
   "cell_type": "code",
   "execution_count": 12,
   "metadata": {},
   "outputs": [
    {
     "data": {
      "text/plain": [
       "[Document(metadata={'source': 'Who Moved My Cheese_.pdf', 'page': 0}, page_content='Who Moved My Cheese? Summary\\nBy  Spencer Johnson'),\n",
       " Document(metadata={'source': 'Who Moved My Cheese_.pdf', 'page': 0}, page_content='By  Spencer Johnson\\nChange is the only certainty in life, so why do we avoid and even fear it?'),\n",
       " Document(metadata={'source': 'Who Moved My Cheese_.pdf', 'page': 0}, page_content='We know that change is inevitable, yet we lack effective strategies to'),\n",
       " Document(metadata={'source': 'Who Moved My Cheese_.pdf', 'page': 0}, page_content='come to terms with it. What if there was a roadmap to help us better\\nnavigate change?'),\n",
       " Document(metadata={'source': 'Who Moved My Cheese_.pdf', 'page': 0}, page_content='navigate change?\\nWho Moved My Cheese  is a light-hearted fable that offers deep insights into')]"
      ]
     },
     "execution_count": 12,
     "metadata": {},
     "output_type": "execute_result"
    }
   ],
   "source": [
    "from langchain.text_splitter import RecursiveCharacterTextSplitter\n",
    "\n",
    "text_splitter = RecursiveCharacterTextSplitter(chunk_size=100, chunk_overlap=20)\n",
    "text_splitter.split_documents(pages)[:5]\n"
   ]
  },
  {
   "cell_type": "code",
   "execution_count": 13,
   "metadata": {},
   "outputs": [],
   "source": [
    "text_splitter = RecursiveCharacterTextSplitter(chunk_size=1000, chunk_overlap=20)\n",
    "documents = text_splitter.split_documents(pages)"
   ]
  },
  {
   "cell_type": "code",
   "execution_count": 14,
   "metadata": {},
   "outputs": [],
   "source": [
    "from langchain_community.embeddings import OllamaEmbeddings\n",
    "\n",
    "embeddings = (\n",
    "    OllamaEmbeddings(model='mistral')\n",
    ")  \n",
    "\n",
    "text = \"This is a test document.\""
   ]
  },
  {
   "cell_type": "code",
   "execution_count": 15,
   "metadata": {},
   "outputs": [
    {
     "data": {
      "text/plain": [
       "[1.8355729579925537,\n",
       " -2.2049717903137207,\n",
       " 0.10405337810516357,\n",
       " -10.774480819702148,\n",
       " 1.3713029623031616]"
      ]
     },
     "execution_count": 15,
     "metadata": {},
     "output_type": "execute_result"
    }
   ],
   "source": [
    "query_result = embeddings.embed_query(text)\n",
    "query_result[:5]"
   ]
  },
  {
   "cell_type": "code",
   "execution_count": 16,
   "metadata": {},
   "outputs": [
    {
     "name": "stdout",
     "output_type": "stream",
     "text": [
      "Embedding length: 4096\n"
     ]
    }
   ],
   "source": [
    "print(f\"Embedding length: {len(query_result)}\")"
   ]
  },
  {
   "cell_type": "code",
   "execution_count": 19,
   "metadata": {},
   "outputs": [],
   "source": [
    "from langchain_community.vectorstores import FAISS\n",
    "db = FAISS.from_documents(documents=documents, embedding=embeddings)"
   ]
  },
  {
   "cell_type": "code",
   "execution_count": null,
   "metadata": {},
   "outputs": [],
   "source": [
    "db.save_local(\"faiss_index\")"
   ]
  },
  {
   "cell_type": "code",
   "execution_count": 20,
   "metadata": {},
   "outputs": [],
   "source": [
    "retriver = db.as_retriever()"
   ]
  },
  {
   "cell_type": "code",
   "execution_count": null,
   "metadata": {},
   "outputs": [],
   "source": [
    "db = FAISS.load_local(\"faiss_index\", embeddings, allow_dangerous_deserialization=True)"
   ]
  },
  {
   "cell_type": "code",
   "execution_count": 22,
   "metadata": {},
   "outputs": [
    {
     "data": {
      "text/plain": [
       "{'context': [Document(metadata={'source': 'Who Moved My Cheese_.pdf', 'page': 3}, page_content='monitoring the initial cheese scenario. They remained action-focused,\\nrather than becoming caught in over-analysis and stale resentments.'),\n",
       "  Document(metadata={'source': 'Who Moved My Cheese_.pdf', 'page': 6}, page_content=\"keep things simple. The two little people's complex brains and human\\nemotions, tend to complicate things. Whatever parts of us we choose to\\nembrace, or choose to ignore, we all have something in common. All of us\\nhave the universal need to find our way around the maze, and succeed in\\nchanging times.\\nIn Conclusion\"),\n",
       "  Document(metadata={'source': 'Who Moved My Cheese_.pdf', 'page': 1}, page_content=\"might see them. Eventually, Haw discovers a new station with an\\nabundance of cheese, and he reunites with Sniff and Scurry. They have\\nbeen there for some time, enjoying the fruits of their labor.\\nOne of the book's central messages is that Haw's notes on the wall serve\\nas encouragement for us all. Many of us are like Hem, and may struggle\\nwith the journey of change, taking risks, and venturing forward into the\\nunknown.\\nSo, what are Haw's insights? And how can we apply these insights to our\\nown lives?\"),\n",
       "  Document(metadata={'source': 'Who Moved My Cheese_.pdf', 'page': 7}, page_content=\"We all need to ask ourselves what's worth writing on our walls as we\\nnavigate the world around us? We all know that change is the only\\nconstant, so we need to learn how to anticipate, adapt to, and ultimately\\nenjoy the journey of transformation. The only thing stopping us from\\nmoving into the unknown is fear, so remember to ask yourself, what\\nyou'd do if fear weren't holding you back.\\nDr. Johnson quotes A.J. Cronin, who writes that, 'Life is no straight and\\neasy corridor along which we travel free and unhampered, but a maze of\\npassages, through which we must seek our way.' Cronin suggests that,\\n'We will at times feel lost and confused. But always, if we have faith, a\\ndoor will open for us, not perhaps one that we ourselves would ever have\\nthought of, but one that will ultimately prove good for us.'\\nSo, what will you do when someone moves your cheese?\")],\n",
       " 'question': 'Who is author of book?'}"
      ]
     },
     "execution_count": 22,
     "metadata": {},
     "output_type": "execute_result"
    }
   ],
   "source": [
    "from langchain_core.runnables import RunnableParallel, RunnablePassthrough\n",
    "\n",
    "setup = RunnableParallel(context=retriver, question=RunnablePassthrough())\n",
    "setup.invoke(\"Who is author of book?\")"
   ]
  },
  {
   "cell_type": "code",
   "execution_count": 23,
   "metadata": {},
   "outputs": [],
   "source": [
    "chain = (\n",
    "    {\"context\": db.as_retriever(), \"question\": RunnablePassthrough()}\n",
    "    | prompt\n",
    "    | llm\n",
    "    | parser\n",
    ")"
   ]
  },
  {
   "cell_type": "code",
   "execution_count": 24,
   "metadata": {},
   "outputs": [
    {
     "data": {
      "text/plain": [
       "' The names of the mice are Sniff and Scurry.'"
      ]
     },
     "execution_count": 24,
     "metadata": {},
     "output_type": "execute_result"
    }
   ],
   "source": [
    "chain.invoke(\"What is names of mice\")"
   ]
  },
  {
   "cell_type": "code",
   "execution_count": 25,
   "metadata": {},
   "outputs": [
    {
     "data": {
      "text/plain": [
       "' The learning from the book \"Who Moved My Cheese\" revolves around adapting to change and navigating through the challenges it brings. It emphasizes the importance of being action-focused, rather than getting stuck in over-analysis or stale resentments. The book encourages keeping things simple and embracing change as the only constant, suggesting that fear is the main obstacle preventing us from moving into the unknown. The author suggests asking oneself what one would do if fear weren\\'t holding them back. The central message is to find ways around the maze of life, succeed in changing times, and learn how to anticipate, adapt, and ultimately enjoy the journey of transformation.'"
      ]
     },
     "execution_count": 25,
     "metadata": {},
     "output_type": "execute_result"
    }
   ],
   "source": [
    "chain.invoke(\"can you tell me learning of this book?\")"
   ]
  },
  {
   "cell_type": "code",
   "execution_count": 26,
   "metadata": {},
   "outputs": [
    {
     "data": {
      "text/plain": [
       "' In the context provided, \"keep things simple\" means minimizing complexity and simplifying situations or problems. This is because complex brains and human emotions tend to complicate things, as indicated in the text from page 6 of \"Who Moved My Cheese\". The author suggests that despite our complexities, we all have something in common - the need to navigate changes successfully. Thus, maintaining a simple approach can help us move forward more easily in changing times.'"
      ]
     },
     "execution_count": 26,
     "metadata": {},
     "output_type": "execute_result"
    }
   ],
   "source": [
    "chain.invoke(\"what is mean by keep things simple?\")"
   ]
  },
  {
   "cell_type": "code",
   "execution_count": null,
   "metadata": {},
   "outputs": [],
   "source": []
  }
 ],
 "metadata": {
  "kernelspec": {
   "display_name": "base",
   "language": "python",
   "name": "python3"
  },
  "language_info": {
   "codemirror_mode": {
    "name": "ipython",
    "version": 3
   },
   "file_extension": ".py",
   "mimetype": "text/x-python",
   "name": "python",
   "nbconvert_exporter": "python",
   "pygments_lexer": "ipython3",
   "version": "3.11.7"
  }
 },
 "nbformat": 4,
 "nbformat_minor": 2
}
